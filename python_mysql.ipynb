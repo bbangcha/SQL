{
 "cells": [
  {
   "cell_type": "code",
   "execution_count": 12,
   "metadata": {},
   "outputs": [],
   "source": [
    "import mysql.connector\n",
    "\n",
    "local = mysql.connector.connect(\n",
    "    host = 'localhost',\n",
    "    user = 'root',\n",
    "    password = 'al814821!@'\n",
    ")"
   ]
  },
  {
   "cell_type": "code",
   "execution_count": 13,
   "metadata": {},
   "outputs": [],
   "source": [
    "remote = mysql.connector.connect(\n",
    "    host = 'database-1.cyxv9d9wcbhr.us-east-2.rds.amazonaws.com',\n",
    "    user = 'admin',\n",
    "    password = 'al814821!#'\n",
    ")"
   ]
  },
  {
   "cell_type": "code",
   "execution_count": 14,
   "metadata": {},
   "outputs": [
    {
     "data": {
      "text/plain": [
       "<bound method CMySQLConnection.close of <mysql.connector.connection_cext.CMySQLConnection object at 0x000002165D710EE0>>"
      ]
     },
     "execution_count": 14,
     "metadata": {},
     "output_type": "execute_result"
    }
   ],
   "source": [
    "local.close"
   ]
  },
  {
   "cell_type": "code",
   "execution_count": 15,
   "metadata": {},
   "outputs": [
    {
     "data": {
      "text/plain": [
       "<bound method CMySQLConnection.close of <mysql.connector.connection_cext.CMySQLConnection object at 0x000002165F7CE610>>"
      ]
     },
     "execution_count": 15,
     "metadata": {},
     "output_type": "execute_result"
    }
   ],
   "source": [
    "remote.close"
   ]
  },
  {
   "cell_type": "code",
   "execution_count": 16,
   "metadata": {},
   "outputs": [
    {
     "data": {
      "text/plain": [
       "<bound method CMySQLConnection.close of <mysql.connector.connection_cext.CMySQLConnection object at 0x000002165F7AD3D0>>"
      ]
     },
     "execution_count": 16,
     "metadata": {},
     "output_type": "execute_result"
    }
   ],
   "source": [
    "local = mysql.connector.connect(\n",
    "    host = 'localhost',\n",
    "    user = 'root',\n",
    "    password = 'al814821!@',\n",
    "    database = 'zerobase'\n",
    ")\n",
    "\n",
    "local.close"
   ]
  },
  {
   "cell_type": "code",
   "execution_count": 17,
   "metadata": {},
   "outputs": [
    {
     "data": {
      "text/plain": [
       "<bound method CMySQLConnection.close of <mysql.connector.connection_cext.CMySQLConnection object at 0x000002165F7AD9A0>>"
      ]
     },
     "execution_count": 17,
     "metadata": {},
     "output_type": "execute_result"
    }
   ],
   "source": [
    "import mysql.connector\n",
    "\n",
    "remote = mysql.connector.connect(\n",
    "    host = 'database-1.cyxv9d9wcbhr.us-east-2.rds.amazonaws.com',\n",
    "    port = 3306,\n",
    "    user = 'admin',\n",
    "    password = 'al814821!#',\n",
    "    database = 'zerobase'\n",
    ")\n",
    "\n",
    "remote.close"
   ]
  },
  {
   "cell_type": "code",
   "execution_count": 21,
   "metadata": {},
   "outputs": [
    {
     "data": {
      "text/plain": [
       "<bound method CMySQLConnection.close of <mysql.connector.connection_cext.CMySQLConnection object at 0x000002165F7AD640>>"
      ]
     },
     "execution_count": 21,
     "metadata": {},
     "output_type": "execute_result"
    }
   ],
   "source": [
    "remote = mysql.connector.connect(\n",
    "    host = 'database-1.cyxv9d9wcbhr.us-east-2.rds.amazonaws.com',\n",
    "    port = 3306,\n",
    "    user = 'admin',\n",
    "    password = 'al814821!#',\n",
    "    database = 'zerobase'\n",
    ")\n",
    "\n",
    "cur = remote.cursor()\n",
    "cur.execute('create table sql_file (id int, filename varchar(16))')\n",
    "\n",
    "remote.close"
   ]
  },
  {
   "cell_type": "code",
   "execution_count": 22,
   "metadata": {},
   "outputs": [
    {
     "data": {
      "text/plain": [
       "<bound method CMySQLConnection.close of <mysql.connector.connection_cext.CMySQLConnection object at 0x000002165F7AF7F0>>"
      ]
     },
     "execution_count": 22,
     "metadata": {},
     "output_type": "execute_result"
    }
   ],
   "source": [
    "remote = mysql.connector.connect(\n",
    "    host = 'database-1.cyxv9d9wcbhr.us-east-2.rds.amazonaws.com',\n",
    "    port = 3306,\n",
    "    user = 'admin',\n",
    "    password = 'al814821!#',\n",
    "    database = 'zerobase'\n",
    ")\n",
    "\n",
    "cur = remote.cursor()\n",
    "cur.execute('drop table sql_file')\n",
    "\n",
    "remote.close"
   ]
  },
  {
   "cell_type": "code",
   "execution_count": 1,
   "metadata": {},
   "outputs": [
    {
     "data": {
      "text/plain": [
       "<bound method CMySQLConnection.close of <mysql.connector.connection_cext.CMySQLConnection object at 0x000002969C1EE3D0>>"
      ]
     },
     "execution_count": 1,
     "metadata": {},
     "output_type": "execute_result"
    }
   ],
   "source": [
    "import mysql.connector\n",
    "\n",
    "\n",
    "remote = mysql.connector.connect(\n",
    "    host = 'database-1.cyxv9d9wcbhr.us-east-2.rds.amazonaws.com',\n",
    "    port = 3306,\n",
    "    user = 'admin',\n",
    "    password = 'al814821!#',\n",
    "    database = 'zerobase'\n",
    ")\n",
    "\n",
    "cur = remote.cursor()\n",
    "sql = open('test02.sql').read()\n",
    "cur.execute(sql)\n",
    "\n",
    "remote.close"
   ]
  },
  {
   "cell_type": "code",
   "execution_count": 28,
   "metadata": {},
   "outputs": [
    {
     "name": "stdout",
     "output_type": "stream",
     "text": [
      "insert into sql_file values (1, 'test01.sql')\n",
      "insert into sql_file values (2, 'test02.sql')\n",
      "insert into sql_file values (3, 'test03.sql')\n",
      "insert into sql_file values (4, 'test04.sql')\n"
     ]
    },
    {
     "data": {
      "text/plain": [
       "<bound method CMySQLConnection.close of <mysql.connector.connection_cext.CMySQLConnection object at 0x000002165F819EB0>>"
      ]
     },
     "execution_count": 28,
     "metadata": {},
     "output_type": "execute_result"
    }
   ],
   "source": [
    "remote = mysql.connector.connect(\n",
    "    host = 'database-1.cyxv9d9wcbhr.us-east-2.rds.amazonaws.com',\n",
    "    port = 3306,\n",
    "    user = 'admin',\n",
    "    password = 'al814821!#',\n",
    "    database = 'zerobase'\n",
    ")\n",
    "\n",
    "cur = remote.cursor()\n",
    "sql = open('test04.sql').read()\n",
    "for result_iterator in cur.execute(sql, multi=True): # 쿼리문이 여러개일 시 multi=True 설정\n",
    "    if result_iterator.with_rows:\n",
    "        print(result_iterator.fetchall())\n",
    "    else:\n",
    "        print(result_iterator.statement)\n",
    "\n",
    "remote.commit()\n",
    "remote.close\n"
   ]
  },
  {
   "cell_type": "code",
   "execution_count": 46,
   "metadata": {},
   "outputs": [
    {
     "name": "stdout",
     "output_type": "stream",
     "text": [
      "[(1, 'test01.sql'), (2, 'test02.sql'), (3, 'test03.sql'), (4, 'test04.sql')]\n"
     ]
    }
   ],
   "source": [
    "remote = mysql.connector.connect(\n",
    "    host = 'database-1.cyxv9d9wcbhr.us-east-2.rds.amazonaws.com',\n",
    "    port = 3306,\n",
    "    user = 'admin',\n",
    "    password = 'al814821!#',\n",
    "    database = 'zerobase'\n",
    ")\n",
    "\n",
    "cur = remote.cursor(buffered=True) # 읽어올 양이 많은 경우 buffered=True 설정 필요\n",
    "cur.execute('select * from sql_file')\n",
    "\n",
    "result = cur.fetchall()\n",
    "print(result)\n",
    "\n",
    "\n",
    "remote.close()"
   ]
  },
  {
   "cell_type": "code",
   "execution_count": 47,
   "metadata": {},
   "outputs": [
    {
     "name": "stdout",
     "output_type": "stream",
     "text": [
      "(1, 'test01.sql')\n",
      "(2, 'test02.sql')\n",
      "(3, 'test03.sql')\n",
      "(4, 'test04.sql')\n"
     ]
    }
   ],
   "source": [
    "remote = mysql.connector.connect(\n",
    "    host = 'database-1.cyxv9d9wcbhr.us-east-2.rds.amazonaws.com',\n",
    "    port = 3306,\n",
    "    user = 'admin',\n",
    "    password = 'al814821!#',\n",
    "    database = 'zerobase'\n",
    ")\n",
    "\n",
    "cur = remote.cursor(buffered=True) \n",
    "cur.execute('select * from sql_file')\n",
    "\n",
    "result = cur.fetchall()\n",
    "for result_iterator in result:\n",
    "    print(result_iterator)\n",
    "\n",
    "remote.close()"
   ]
  },
  {
   "cell_type": "code",
   "execution_count": 49,
   "metadata": {},
   "outputs": [
    {
     "data": {
      "text/html": [
       "<div>\n",
       "<style scoped>\n",
       "    .dataframe tbody tr th:only-of-type {\n",
       "        vertical-align: middle;\n",
       "    }\n",
       "\n",
       "    .dataframe tbody tr th {\n",
       "        vertical-align: top;\n",
       "    }\n",
       "\n",
       "    .dataframe thead th {\n",
       "        text-align: right;\n",
       "    }\n",
       "</style>\n",
       "<table border=\"1\" class=\"dataframe\">\n",
       "  <thead>\n",
       "    <tr style=\"text-align: right;\">\n",
       "      <th></th>\n",
       "      <th>0</th>\n",
       "      <th>1</th>\n",
       "    </tr>\n",
       "  </thead>\n",
       "  <tbody>\n",
       "    <tr>\n",
       "      <th>0</th>\n",
       "      <td>1</td>\n",
       "      <td>test01.sql</td>\n",
       "    </tr>\n",
       "    <tr>\n",
       "      <th>1</th>\n",
       "      <td>2</td>\n",
       "      <td>test02.sql</td>\n",
       "    </tr>\n",
       "    <tr>\n",
       "      <th>2</th>\n",
       "      <td>3</td>\n",
       "      <td>test03.sql</td>\n",
       "    </tr>\n",
       "    <tr>\n",
       "      <th>3</th>\n",
       "      <td>4</td>\n",
       "      <td>test04.sql</td>\n",
       "    </tr>\n",
       "  </tbody>\n",
       "</table>\n",
       "</div>"
      ],
      "text/plain": [
       "   0           1\n",
       "0  1  test01.sql\n",
       "1  2  test02.sql\n",
       "2  3  test03.sql\n",
       "3  4  test04.sql"
      ]
     },
     "execution_count": 49,
     "metadata": {},
     "output_type": "execute_result"
    }
   ],
   "source": [
    "import pandas as pd\n",
    "\n",
    "df = pd.DataFrame(result)\n",
    "df.head()"
   ]
  },
  {
   "cell_type": "code",
   "execution_count": null,
   "metadata": {},
   "outputs": [],
   "source": []
  }
 ],
 "metadata": {
  "kernelspec": {
   "display_name": "ds_study",
   "language": "python",
   "name": "python3"
  },
  "language_info": {
   "codemirror_mode": {
    "name": "ipython",
    "version": 3
   },
   "file_extension": ".py",
   "mimetype": "text/x-python",
   "name": "python",
   "nbconvert_exporter": "python",
   "pygments_lexer": "ipython3",
   "version": "3.8.18"
  }
 },
 "nbformat": 4,
 "nbformat_minor": 2
}
